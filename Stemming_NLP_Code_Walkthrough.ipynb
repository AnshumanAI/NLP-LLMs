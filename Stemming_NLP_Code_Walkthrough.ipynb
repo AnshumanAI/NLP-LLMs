{
  "nbformat": 4,
  "nbformat_minor": 0,
  "metadata": {
    "colab": {
      "provenance": [],
      "authorship_tag": "ABX9TyPNjQZl0kb3KUQxIXxLZKc+",
      "include_colab_link": true
    },
    "kernelspec": {
      "name": "python3",
      "display_name": "Python 3"
    },
    "language_info": {
      "name": "python"
    }
  },
  "cells": [
    {
      "cell_type": "markdown",
      "metadata": {
        "id": "view-in-github",
        "colab_type": "text"
      },
      "source": [
        "<a href=\"https://colab.research.google.com/github/AnshumanAI/NLP-LLMs/blob/main/Stemming_NLP_Code_Walkthrough.ipynb\" target=\"_parent\"><img src=\"https://colab.research.google.com/assets/colab-badge.svg\" alt=\"Open In Colab\"/></a>"
      ]
    },
    {
      "cell_type": "markdown",
      "source": [
        "Importing nltk, simple word stemming."
      ],
      "metadata": {
        "id": "8fUuyYD0xoAL"
      }
    },
    {
      "cell_type": "code",
      "execution_count": null,
      "metadata": {
        "colab": {
          "base_uri": "https://localhost:8080/"
        },
        "id": "tuWvtyq3xbW5",
        "outputId": "07cb3bda-b316-44d5-cd6d-454ecdb50ef2"
      },
      "outputs": [
        {
          "output_type": "stream",
          "name": "stdout",
          "text": [
            "Processing  :  process\n",
            "Naturally  :  natur\n",
            "Languages  :  languag\n",
            "Stemming  :  stem\n"
          ]
        }
      ],
      "source": [
        "from nltk.stem import PorterStemmer\n",
        "from nltk.tokenize import word_tokenize\n",
        "ps= PorterStemmer()\n",
        "words = [\"Processing\", \"Naturally\", \"Languages\", \"Stemming\",]\n",
        "for w in words:\n",
        "    print(w, \" : \", ps.stem(w))"
      ]
    },
    {
      "cell_type": "code",
      "source": [
        "from nltk.stem.snowball import SnowballStemmer"
      ],
      "metadata": {
        "id": "Iv-MrNdGysfa"
      },
      "execution_count": null,
      "outputs": []
    },
    {
      "cell_type": "code",
      "source": [
        "stemmer = SnowballStemmer(\"english\")"
      ],
      "metadata": {
        "id": "g57ONpGzzlC0"
      },
      "execution_count": null,
      "outputs": []
    },
    {
      "cell_type": "code",
      "source": [
        "for w in words:\n",
        "    print(w, \" : \", stemmer.stem(w))"
      ],
      "metadata": {
        "colab": {
          "base_uri": "https://localhost:8080/"
        },
        "id": "mFvF9mEvznHh",
        "outputId": "cc7708fe-fa9e-4c5c-c4d2-0018b30160de"
      },
      "execution_count": null,
      "outputs": [
        {
          "output_type": "stream",
          "name": "stdout",
          "text": [
            "Processing  :  process\n",
            "Naturally  :  natur\n",
            "Languages  :  languag\n",
            "Stemming  :  stem\n"
          ]
        }
      ]
    },
    {
      "cell_type": "markdown",
      "source": [
        "Differences"
      ],
      "metadata": {
        "id": "PgeWGnRt0kJW"
      }
    },
    {
      "cell_type": "code",
      "source": [
        "\n",
        "print (ps.stem(\"generously\"))\n",
        "print (stemmer.stem(\"generously\"))"
      ],
      "metadata": {
        "colab": {
          "base_uri": "https://localhost:8080/"
        },
        "id": "s-mYq48m0nbV",
        "outputId": "f2740257-a1c0-4b36-aa0e-49f7ee550769"
      },
      "execution_count": null,
      "outputs": [
        {
          "output_type": "stream",
          "name": "stdout",
          "text": [
            "gener\n",
            "generous\n"
          ]
        }
      ]
    }
  ]
}