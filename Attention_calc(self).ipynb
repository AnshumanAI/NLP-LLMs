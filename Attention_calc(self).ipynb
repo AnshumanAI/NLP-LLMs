{
  "nbformat": 4,
  "nbformat_minor": 0,
  "metadata": {
    "colab": {
      "provenance": [],
      "authorship_tag": "ABX9TyO4TOdSdwH7lm+cucarAmub",
      "include_colab_link": true
    },
    "kernelspec": {
      "name": "python3",
      "display_name": "Python 3"
    },
    "language_info": {
      "name": "python"
    }
  },
  "cells": [
    {
      "cell_type": "markdown",
      "metadata": {
        "id": "view-in-github",
        "colab_type": "text"
      },
      "source": [
        "<a href=\"https://colab.research.google.com/github/AnshumanAI/NLP-LLMs/blob/main/Attention_calc(self).ipynb\" target=\"_parent\"><img src=\"https://colab.research.google.com/assets/colab-badge.svg\" alt=\"Open In Colab\"/></a>"
      ]
    },
    {
      "cell_type": "code",
      "execution_count": 12,
      "metadata": {
        "id": "92ecAJ9_M0IP"
      },
      "outputs": [],
      "source": [
        "import numpy as np\n",
        "import math"
      ]
    },
    {
      "cell_type": "code",
      "source": [
        "L, k,v=4,8,8\n",
        "Q=np.random.randn(L,k)\n",
        "K=np.random.randn(L,k)\n",
        "V=np.random.randn(L,v)"
      ],
      "metadata": {
        "id": "RCYWDJtLNHa-"
      },
      "execution_count": 13,
      "outputs": []
    },
    {
      "cell_type": "code",
      "source": [
        "P=np.matmul(Q,K.T)\n",
        "P"
      ],
      "metadata": {
        "colab": {
          "base_uri": "https://localhost:8080/"
        },
        "id": "AUkTtoVaNnf8",
        "outputId": "fe8a482e-8a94-4814-e4f2-a289eb50267f"
      },
      "execution_count": 20,
      "outputs": [
        {
          "output_type": "execute_result",
          "data": {
            "text/plain": [
              "array([[ 2.74753199,  1.87799812,  0.68500382,  1.91193503],\n",
              "       [-0.61229974, -0.94778134,  1.71694228,  1.3962999 ],\n",
              "       [-0.96387046, -2.37694049,  4.48543335,  0.63527204],\n",
              "       [-4.08184667, -9.06032819,  5.4050504 , -3.30224597]])"
            ]
          },
          "metadata": {},
          "execution_count": 20
        }
      ]
    },
    {
      "cell_type": "code",
      "source": [
        "Scaled=P/math.sqrt(k)\n",
        "Scaled.var()"
      ],
      "metadata": {
        "colab": {
          "base_uri": "https://localhost:8080/"
        },
        "id": "Y9hI3UwzNthe",
        "outputId": "330b3052-5a75-4175-e3c3-96c0c0ed7652"
      },
      "execution_count": 21,
      "outputs": [
        {
          "output_type": "execute_result",
          "data": {
            "text/plain": [
              "1.4635050032050145"
            ]
          },
          "metadata": {},
          "execution_count": 21
        }
      ]
    },
    {
      "cell_type": "code",
      "source": [
        "mask=np.tril(np.ones((L,L)))\n",
        "mask[mask==0]=-np.infty\n",
        "mask[mask==1]=0\n",
        "mask\n",
        "#without mask , row will sum to 1 I guess"
      ],
      "metadata": {
        "colab": {
          "base_uri": "https://localhost:8080/"
        },
        "id": "NVLFZy_BOS93",
        "outputId": "06b3e28e-de77-42bd-bb12-052974d30187"
      },
      "execution_count": 22,
      "outputs": [
        {
          "output_type": "execute_result",
          "data": {
            "text/plain": [
              "array([[  0., -inf, -inf, -inf],\n",
              "       [  0.,   0., -inf, -inf],\n",
              "       [  0.,   0.,   0., -inf],\n",
              "       [  0.,   0.,   0.,   0.]])"
            ]
          },
          "metadata": {},
          "execution_count": 22
        }
      ]
    },
    {
      "cell_type": "code",
      "source": [
        "S=Scaled+mask\n",
        "S"
      ],
      "metadata": {
        "colab": {
          "base_uri": "https://localhost:8080/"
        },
        "id": "SFnvwDtFOkb1",
        "outputId": "14781f2b-f5e7-488a-dbe4-8a5ac6e4f355"
      },
      "execution_count": 24,
      "outputs": [
        {
          "output_type": "execute_result",
          "data": {
            "text/plain": [
              "array([[ 0.97139925,        -inf,        -inf,        -inf],\n",
              "       [-0.21648065, -0.33509131,        -inf,        -inf],\n",
              "       [-0.34077967, -0.84037537,  1.58584017,        -inf],\n",
              "       [-1.44315073, -3.20330975,  1.9109739 , -1.16752026]])"
            ]
          },
          "metadata": {},
          "execution_count": 24
        }
      ]
    },
    {
      "cell_type": "code",
      "source": [
        "#softmax\n",
        "def softmax(X):\n",
        "    return (np.exp(X).T/np.sum(np.exp(X),axis=-1)).T"
      ],
      "metadata": {
        "id": "gRR63fd9O7bv"
      },
      "execution_count": 25,
      "outputs": []
    },
    {
      "cell_type": "code",
      "source": [
        "Attention=softmax(S)\n",
        "New_V=np.matmul(Attention,V)\n",
        "print(V,\"_\"*10,\"\\n\")\n",
        "print(New_V)"
      ],
      "metadata": {
        "colab": {
          "base_uri": "https://localhost:8080/"
        },
        "id": "W4Hn_igTPaXm",
        "outputId": "284c9c0e-a4f5-40a6-c38b-044daa42cf4b"
      },
      "execution_count": 26,
      "outputs": [
        {
          "output_type": "stream",
          "name": "stdout",
          "text": [
            "[[-0.16501795 -0.97053276  0.63230295  0.93722243 -0.49079291 -0.5230579\n",
            "   0.09131539 -1.42342207]\n",
            " [-1.67896291 -1.90022402  0.19776651  0.7227473   1.68108693 -0.93034948\n",
            "  -0.98174398  0.75616533]\n",
            " [ 0.03968828  0.69749234 -0.72803349 -2.25177905  1.55756884 -0.43980499\n",
            "  -0.7633519  -0.82725071]\n",
            " [ 1.38675696  0.60675164  0.5980037  -1.58092831 -0.29558505 -1.75913724\n",
            "   0.92737054  0.43230129]] __________ \n",
            "\n",
            "[[-0.16501795 -0.97053276  0.63230295  0.93722243 -0.49079291 -0.5230579\n",
            "   0.09131539 -1.42342207]\n",
            " [-0.87715049 -1.40784284  0.42790481  0.83633718  0.53082039 -0.71464055\n",
            "  -0.41343248 -0.39818328]\n",
            " [-0.10754846  0.31460052 -0.50118574 -1.66239511  1.32466372 -0.48475977\n",
            "  -0.67812246 -0.78421923]\n",
            " [ 0.08064728  0.62566907 -0.62303611 -2.1044169   1.41393661 -0.50106108\n",
            "  -0.66549269 -0.78432264]]\n"
          ]
        }
      ]
    }
  ]
}